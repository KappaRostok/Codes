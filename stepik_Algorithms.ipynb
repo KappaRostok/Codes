{
 "cells": [
  {
   "cell_type": "code",
   "execution_count": 7,
   "metadata": {},
   "outputs": [
    {
     "name": "stdout",
     "output_type": "stream",
     "text": [
      "696352\n",
      "9\n"
     ]
    }
   ],
   "source": [
    "#fibonacci last cifra\n",
    "n = int(input())\n",
    "a1=1\n",
    "a2=1\n",
    "if n<3:\n",
    "    print(a1)\n",
    "else:\n",
    "    for i in range(2,n):\n",
    "        bebe=a1%10\n",
    "        a1=a2%10\n",
    "        a2=(bebe+a2)%10\n",
    "    print(a2)"
   ]
  },
  {
   "cell_type": "code",
   "execution_count": 15,
   "metadata": {},
   "outputs": [
    {
     "name": "stdout",
     "output_type": "stream",
     "text": [
      "14159572 63967072\n",
      "4\n"
     ]
    }
   ],
   "source": [
    "#наиб общ делитель\n",
    "a, b = map(int, input().split())\n",
    "\n",
    "if a==0 or b==0:\n",
    "    print(min(a,b))\n",
    "while a!=0 or b!=0:\n",
    "    if a==0:\n",
    "        print(b)\n",
    "        break\n",
    "    if b==0:\n",
    "        print(a)\n",
    "        break\n",
    "    if a>=b:\n",
    "        a=a%b\n",
    "    else:\n",
    "        b=b%a\n",
    "  "
   ]
  },
  {
   "cell_type": "markdown",
   "metadata": {},
   "source": [
    "# Задача на программирование: покрыть отрезки точками #\n",
    "По данным n отрезкам необходимо найти множество точек минимального размера, для которого каждый из отрезков содержит хотя бы одну из точек.\n",
    "\n",
    "В первой строке дано число 1≤n≤100 отрезков. Каждая из последующих n строк содержит по два числа 0≤l≤r≤109,\n",
    "задающих начало и конец отрезка. Выведите оптимальное число m точек и сами m точек. Если таких множеств точек несколько,\n",
    "выведите любое из них."
   ]
  },
  {
   "cell_type": "code",
   "execution_count": null,
   "metadata": {},
   "outputs": [],
   "source": [
    "n = int(input())\n",
    "otr=[]\n",
    "for i in range(n):\n",
    "    otr.append(input().split())\n",
    "otr=sorted(otr, key=lambda y: int(y[1]))\n",
    "mass_t=[]\n",
    "nach_t=0\n",
    "for i in otr:\n",
    "    if nach_t==0:\n",
    "        mass_t.append(int(i[1]))\n",
    "        nach_t=int(i[1])\n",
    "        continue\n",
    "    if nach_t>=int(i[0]):\n",
    "        continue\n",
    "    else:\n",
    "        mass_t.append(int(i[1]))\n",
    "        nach_t=int(i[1])\n",
    "        \n",
    "print(len(mass_t))        \n",
    "for i in mass_t:\n",
    "    print(i,end=' ')\n",
    "            \n",
    "    \n",
    "    "
   ]
  },
  {
   "cell_type": "markdown",
   "metadata": {
    "collapsed": true
   },
   "source": [
    "# Задача на программирование: непрерывный рюкзак #\n",
    "Первая строка содержит количество предметов 1≤n≤103 и вместимость рюкзака 0≤W≤2⋅106. \n",
    "Каждая из следующих n строк задаёт стоимость 0≤ci≤2⋅106 и объём 0<wi≤2⋅106 предмета \n",
    "(n, W, ci, wi — целые числа). Выведите максимальную стоимость частей предметов \n",
    "(от каждого предмета можно отделить любую часть, стоимость и объём при этом пропорционально уменьшатся),\n",
    "помещающихся в данный рюкзак, с точностью не менее трёх знаков после запятой."
   ]
  },
  {
   "cell_type": "code",
   "execution_count": 61,
   "metadata": {},
   "outputs": [
    {
     "name": "stdout",
     "output_type": "stream",
     "text": [
      "3 50\n",
      "60 20\n",
      "100 50\n",
      "120 30\n",
      "180.0\n"
     ]
    }
   ],
   "source": [
    "n, v = map(int, input().split())\n",
    "mass=[]\n",
    "for i in range(n):\n",
    "    mass.append(input().split())\n",
    "mass=reversed(sorted(mass, key=lambda y: int(y[0])/int(y[1])))\n",
    "mass_sum=0\n",
    "for i in mass:\n",
    "    if v!=0:\n",
    "        if int(i[1])<v:\n",
    "            mass_sum=mass_sum+int(i[0])\n",
    "            v=v-int(i[1])\n",
    "        else:\n",
    "            coef=v/int(i[1])\n",
    "            mass_sum=mass_sum+(int(i[0])*coef)\n",
    "            v=v-int(i[1])*coef\n",
    "            \n",
    "print(mass_sum)\n",
    "        "
   ]
  },
  {
   "cell_type": "code",
   "execution_count": null,
   "metadata": {},
   "outputs": [],
   "source": []
  },
  {
   "cell_type": "code",
   "execution_count": null,
   "metadata": {
    "collapsed": true
   },
   "outputs": [],
   "source": []
  },
  {
   "cell_type": "code",
   "execution_count": null,
   "metadata": {
    "collapsed": true
   },
   "outputs": [],
   "source": []
  },
  {
   "cell_type": "code",
   "execution_count": null,
   "metadata": {
    "collapsed": true
   },
   "outputs": [],
   "source": []
  },
  {
   "cell_type": "code",
   "execution_count": null,
   "metadata": {
    "collapsed": true
   },
   "outputs": [],
   "source": []
  },
  {
   "cell_type": "code",
   "execution_count": null,
   "metadata": {
    "collapsed": true
   },
   "outputs": [],
   "source": []
  }
 ],
 "metadata": {
  "kernelspec": {
   "display_name": "Python 3",
   "language": "python",
   "name": "python3"
  },
  "language_info": {
   "codemirror_mode": {
    "name": "ipython",
    "version": 3
   },
   "file_extension": ".py",
   "mimetype": "text/x-python",
   "name": "python",
   "nbconvert_exporter": "python",
   "pygments_lexer": "ipython3",
   "version": "3.6.1"
  }
 },
 "nbformat": 4,
 "nbformat_minor": 2
}
